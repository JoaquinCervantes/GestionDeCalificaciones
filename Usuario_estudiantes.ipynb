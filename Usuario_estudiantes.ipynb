{
  "nbformat": 4,
  "nbformat_minor": 0,
  "metadata": {
    "colab": {
      "provenance": [],
      "authorship_tag": "ABX9TyOdtpT6NZBIiGILVfYVFhJh",
      "include_colab_link": true
    },
    "kernelspec": {
      "name": "python3",
      "display_name": "Python 3"
    },
    "language_info": {
      "name": "python"
    }
  },
  "cells": [
    {
      "cell_type": "markdown",
      "metadata": {
        "id": "view-in-github",
        "colab_type": "text"
      },
      "source": [
        "<a href=\"https://colab.research.google.com/github/JoaquinCervantes/GestionDeCalificaciones/blob/main/Usuario_estudiantes.ipynb\" target=\"_parent\"><img src=\"https://colab.research.google.com/assets/colab-badge.svg\" alt=\"Open In Colab\"/></a>"
      ]
    },
    {
      "cell_type": "code",
      "execution_count": null,
      "metadata": {
        "id": "BYemfJiZ2ciP"
      },
      "outputs": [],
      "source": [
        "class SistemaGestionAcademica:\n",
        "    def __init__(self):\n",
        "        self.estudiantes = {}\n",
        "\n",
        "    def iniciar_sesion_estudiante(self, nombre_usuario, contrasena):\n",
        "        # Verificar las credenciales del estudiante y permitir el inicio de sesión\n",
        "        # Si las credenciales son válidas, establecer al estudiante como usuario activo en el sistema\n",
        "        pass\n",
        "\n",
        "    def ver_calificaciones(self, estudiante_id):\n",
        "        # Verificar si el estudiante está autorizado y activo en el sistema\n",
        "        if estudiante_id in self.estudiantes:\n",
        "            # Obtener el perfil del estudiante\n",
        "            perfil_estudiante = self.estudiantes[estudiante_id]\n",
        "            # Mostrar las calificaciones del estudiante por asignatura\n",
        "            for asignatura, calificaciones in perfil_estudiante[\"asignaturas\"].items():\n",
        "                print(f\"Asignatura: {asignatura}\")\n",
        "                for calificacion in calificaciones:\n",
        "                    print(f\"- {calificacion}\")\n",
        "            # Mostrar el promedio general del estudiante\n",
        "            promedio_general = perfil_estudiante[\"promedio_general\"]\n",
        "            print(f\"Promedio General: {promedio_general}\")\n",
        "        else:\n",
        "            print(\"El estudiante no está autorizado o no ha iniciado sesión.\")\n",
        "\n",
        "    def agregar_estudiante(self, estudiante_id, nombre_usuario, contrasena):\n",
        "        # Agregar un nuevo estudiante al sistema con sus credenciales\n",
        "        self.estudiantes[estudiante_id] = {\n",
        "            \"nombre_usuario\": nombre_usuario,\n",
        "            \"contrasena\": contrasena,\n",
        "            \"asignaturas\": {},\n",
        "            \"promedio_general\": None\n",
        "        }\n",
        "\n",
        "    def agregar_calificacion(self, estudiante_id, asignatura, calificacion):\n",
        "        # Verificar si el estudiante está autorizado y activo en el sistema\n",
        "        if estudiante_id in self.estudiantes:\n",
        "            # Verificar si la asignatura existe para el estudiante\n",
        "            if asignatura in self.estudiantes[estudiante_id][\"asignaturas\"]:\n",
        "                # Agregar la calificación a la asignatura correspondiente\n",
        "                self.estudiantes[estudiante_id][\"asignaturas\"][asignatura].append(calificacion)\n",
        "                # Calcular el promedio de las calificaciones para la asignatura\n",
        "                promedio_asignatura = sum(self.estudiantes[estudiante_id][\"asignaturas\"][asignatura]) / len(self.estudiantes[estudiante_id][\"asignaturas\"][asignatura])\n",
        "                # Actualizar el promedio de la asignatura en el perfil del estudiante\n",
        "                self.estudiantes[estudiante_id][\"asignaturas\"][asignatura][\"promedio\"] = promedio_asignatura\n",
        "            else:\n",
        "                # Agregar la asignatura y la calificación al perfil del estudiante\n",
        "                self.estudiantes[estudiante_id][\"asignaturas\"][asignatura] = [calificacion]\n",
        "        else:\n",
        "            print(\"El estudiante no está autorizado o no ha iniciado sesión.\")\n",
        "\n",
        "    def modificar_calificacion(self, estudiante_id, asignatura, indice_calificacion, nueva_calificacion):\n",
        "        # Verificar si el estudiante está autorizado y activo en el sistema\n",
        "        if estudiante_id in self.estudiantes:\n",
        "            # Verificar si la asignatura existe para el estudiante\n",
        "            if asignatura in self.estudiantes[estudiante_id][\"asignaturas\"]:\n",
        "                # Verificar si el índice de calificación es válido\n",
        "                calificaciones_asignatura = self.estudiantes[estudiante_id][\"asignaturas\"][asignatura]\n",
        "\n"
      ]
    }
  ]
}