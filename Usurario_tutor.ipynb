{
  "nbformat": 4,
  "nbformat_minor": 0,
  "metadata": {
    "colab": {
      "provenance": [],
      "authorship_tag": "ABX9TyNIfgGRsl9/niZ2Y7vIzDtR",
      "include_colab_link": true
    },
    "kernelspec": {
      "name": "python3",
      "display_name": "Python 3"
    },
    "language_info": {
      "name": "python"
    }
  },
  "cells": [
    {
      "cell_type": "markdown",
      "metadata": {
        "id": "view-in-github",
        "colab_type": "text"
      },
      "source": [
        "<a href=\"https://colab.research.google.com/github/JoaquinCervantes/GestionDeCalificaciones/blob/main/Usurario_tutor.ipynb\" target=\"_parent\"><img src=\"https://colab.research.google.com/assets/colab-badge.svg\" alt=\"Open In Colab\"/></a>"
      ]
    },
    {
      "cell_type": "code",
      "execution_count": null,
      "metadata": {
        "id": "iU-PZHC73qLS"
      },
      "outputs": [],
      "source": [
        "class SistemaGestionAcademica:\n",
        "    def __init__(self):\n",
        "        self.padres_tutores = {}\n",
        "\n",
        "    def iniciar_sesion_padre_tutor(self, nombre_usuario, contrasena):\n",
        "        # Verificar las credenciales del padre o tutor y permitir el inicio de sesión\n",
        "        # Si las credenciales son válidas, establecer al padre o tutor como usuario activo en el sistema\n",
        "        pass\n",
        "\n",
        "    def ver_hijos_estudiantes(self, padre_tutor_id):\n",
        "        # Verificar si el padre o tutor está autorizado y activo en el sistema\n",
        "        if padre_tutor_id in self.padres_tutores:\n",
        "            # Obtener la lista de hijos o estudiantes asociados al padre o tutor\n",
        "            hijos_estudiantes = self.padres_tutores[padre_tutor_id][\"hijos_estudiantes\"]\n",
        "            # Mostrar la lista de hijos o estudiantes\n",
        "            for indice, estudiante_id in enumerate(hijos_estudiantes, start=1):\n",
        "                estudiante = self.estudiantes[estudiante_id]\n",
        "                print(f\"{indice}. {estudiante['nombre']}\")\n",
        "        else:\n",
        "            print(\"El padre o tutor no está autorizado o no ha iniciado sesión.\")\n",
        "\n",
        "    def ver_informacion_academica(self, padre_tutor_id, estudiante_id):\n",
        "        # Verificar si el padre o tutor está autorizado y activo en el sistema\n",
        "        if padre_tutor_id in self.padres_tutores:\n",
        "            # Verificar si el estudiante está asociado al padre o tutor\n",
        "            hijos_estudiantes = self.padres_tutores[padre_tutor_id][\"hijos_estudiantes\"]\n",
        "            if estudiante_id in hijos_estudiantes:\n",
        "                # Obtener la información académica del estudiante\n",
        "                estudiante = self.estudiantes[estudiante_id]\n",
        "                # Mostrar las calificaciones del estudiante por asignatura\n",
        "                for asignatura, calificaciones in estudiante[\"asignaturas\"].items():\n",
        "                    print(f\"Asignatura: {asignatura}\")\n",
        "                    for calificacion in calificaciones:\n",
        "                        print(f\"- {calificacion}\")\n",
        "                # Mostrar el promedio general del estudiante\n",
        "                promedio_general = estudiante[\"promedio_general\"]\n",
        "                print(f\"Promedio General: {promedio_general}\")\n",
        "            else:\n",
        "                print(\"El estudiante no está asociado al padre o tutor.\")\n",
        "        else:\n",
        "            print(\"El padre o tutor no está autorizado o no ha iniciado sesión.\")\n",
        "\n",
        "    def agregar_padre_tutor(self, padre_tutor_id, nombre_usuario, contrasena):\n",
        "        # Agregar un nuevo padre o tutor al sistema con sus credenciales\n",
        "        self.padres_tutores[padre_tutor_id] = {\n",
        "            \"nombre_usuario\": nombre_usuario,\n",
        "            \"contrasena\": contrasena,\n",
        "            \"hijos_estudiantes\": []\n",
        "        }\n",
        "\n",
        "    def asociar_hijo_estudiante(self, padre_tutor_id, estudiante_id):\n",
        "        # Verificar si el padre o tutor está autorizado y activo en el sistema\n",
        "        if padre_tutor_id in self.padres_tutores:\n",
        "            # Verificar si el estudiante existe en el sistema\n",
        "            if estudiante_id in self.estudiantes:\n",
        "                # Asociar al estudiante al padre o tutor\n",
        "                self.padres_tutores[padre_tutor_id][\"hijos_estudiantes\"].append(estudiante_id)\n",
        "                print(\"Estudiante asociado correctamente al padre o tutor.\")\n",
        "            else:\n",
        "                print(\"El estudiante no existe en el sistema.\")\n",
        "        else:\n",
        "            print(\"El padre o tutor no está autorizado o no ha iniciado sesión.\")\n",
        "\n",
        "\n",
        "\n"
      ]
    }
  ]
}