{
  "nbformat": 4,
  "nbformat_minor": 0,
  "metadata": {
    "colab": {
      "provenance": [],
      "authorship_tag": "ABX9TyMLD1I8TU4BsunJQ9RfCyqX",
      "include_colab_link": true
    },
    "kernelspec": {
      "name": "python3",
      "display_name": "Python 3"
    },
    "language_info": {
      "name": "python"
    }
  },
  "cells": [
    {
      "cell_type": "markdown",
      "metadata": {
        "id": "view-in-github",
        "colab_type": "text"
      },
      "source": [
        "<a href=\"https://colab.research.google.com/github/JoaquinCervantes/GestionDeCalificaciones/blob/main/Usuario_preceptor.ipynb\" target=\"_parent\"><img src=\"https://colab.research.google.com/assets/colab-badge.svg\" alt=\"Open In Colab\"/></a>"
      ]
    },
    {
      "cell_type": "code",
      "execution_count": null,
      "metadata": {
        "id": "B0Jp0AfK69Ai"
      },
      "outputs": [],
      "source": [
        "class SistemaGestionAcademica:\n",
        "    def __init__(self):\n",
        "        self.preceptores = {}\n",
        "\n",
        "    def iniciar_sesion_preceptor(self, nombre_usuario, contrasena):\n",
        "        # Verificar las credenciales del preceptor y permitir el inicio de sesión\n",
        "        # Si las credenciales son válidas, establecer al preceptor como usuario activo en el sistema\n",
        "        pass\n",
        "\n",
        "    def ver_grupo_estudiantes(self, preceptor_id):\n",
        "        # Verificar si el preceptor está autorizado y activo en el sistema\n",
        "        if preceptor_id in self.preceptores:\n",
        "            # Obtener el grupo de estudiantes asignados al preceptor\n",
        "            grupo_estudiantes = self.preceptores[preceptor_id][\"grupo_estudiantes\"]\n",
        "            # Mostrar la lista de estudiantes en el grupo\n",
        "            for indice, estudiante_id in enumerate(grupo_estudiantes, start=1):\n",
        "                estudiante = self.estudiantes[estudiante_id]\n",
        "                print(f\"{indice}. {estudiante['nombre']}\")\n",
        "        else:\n",
        "            print(\"El preceptor no está autorizado o no ha iniciado sesión.\")\n",
        "\n",
        "    def ver_informacion_academica(self, preceptor_id, estudiante_id):\n",
        "        # Verificar si el preceptor está autorizado y activo en el sistema\n",
        "        if preceptor_id in self.preceptores:\n",
        "            # Verificar si el estudiante está asignado al preceptor\n",
        "            grupo_estudiantes = self.preceptores[preceptor_id][\"grupo_estudiantes\"]\n",
        "            if estudiante_id in grupo_estudiantes:\n",
        "                # Obtener la información académica del estudiante\n",
        "                estudiante = self.estudiantes[estudiante_id]\n",
        "                # Mostrar las calificaciones del estudiante por asignatura\n",
        "                for asignatura, calificaciones in estudiante[\"asignaturas\"].items():\n",
        "                    print(f\"Asignatura: {asignatura}\")\n",
        "                    for calificacion in calificaciones:\n",
        "                        print(f\"- {calificacion}\")\n",
        "                # Mostrar el promedio general del estudiante\n",
        "                promedio_general = estudiante[\"promedio_general\"]\n",
        "                print(f\"Promedio General: {promedio_general}\")\n",
        "            else:\n",
        "                print(\"El estudiante no está asignado al preceptor.\")\n",
        "        else:\n",
        "            print(\"El preceptor no está autorizado o no ha iniciado sesión.\")\n",
        "\n",
        "    def agregar_preceptor(self, preceptor_id, nombre_usuario, contrasena):\n",
        "        # Agregar un nuevo preceptor al sistema con sus credenciales\n",
        "        self.preceptores[preceptor_id] = {\n",
        "            \"nombre_usuario\": nombre_usuario,\n",
        "            \"contrasena\": contrasena,\n",
        "            \"grupo_estudiantes\": []\n",
        "        }\n",
        "\n",
        "    def asignar_estudiante_preceptor(self, preceptor_id, estudiante_id):\n",
        "        # Verificar si el preceptor está autorizado y activo en el sistema\n",
        "        if preceptor_id in self.preceptores:\n",
        "            # Verificar si el estudiante existe en el sistema\n",
        "            if estudiante_id in self.estudiantes:\n",
        "                # Asignar al estudiante al preceptor\n",
        "                self.preceptores[preceptor_id][\"grupo_estudiantes\"].append(estudiante_id)\n",
        "                print(\"Estudiante asignado correctamente al preceptor.\")\n",
        "            else:\n",
        "                print(\"El estudiante no existe en el sistema.\")\n",
        "        else:\n",
        "            print(\"El preceptor no está autorizado o no ha iniciado sesión.\")\n",
        "\n",
        "    # Resto de métodos del sistema...\n"
      ]
    }
  ]
}